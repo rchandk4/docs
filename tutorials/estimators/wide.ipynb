{
  "nbformat": 4,
  "nbformat_minor": 0,
  "metadata": {
    "colab": {
      "name": "wide.ipynb",
      "version": "0.3.2",
      "provenance": [],
      "collapsed_sections": [
        "MWW1TyjaecRh"
      ],
      "toc_visible": true
    },
    "kernelspec": {
      "display_name": "Python 3",
      "language": "python",
      "name": "python3"
    }
  },
  "cells": [
    {
      "metadata": {
        "id": "MWW1TyjaecRh",
        "colab_type": "text"
      },
      "cell_type": "markdown",
      "source": [
        "##### Copyright 2018 The TensorFlow Authors."
      ]
    },
    {
      "metadata": {
        "id": "mOtR1FzCef-u",
        "colab_type": "code",
        "colab": {}
      },
      "cell_type": "code",
      "source": [
        "#@title Licensed under the Apache License, Version 2.0 (the \"License\");\n",
        "# you may not use this file except in compliance with the License.\n",
        "# You may obtain a copy of the License at\n",
        "#\n",
        "# https://www.apache.org/licenses/LICENSE-2.0\n",
        "#\n",
        "# Unless required by applicable law or agreed to in writing, software\n",
        "# distributed under the License is distributed on an \"AS IS\" BASIS,\n",
        "# WITHOUT WARRANTIES OR CONDITIONS OF ANY KIND, either express or implied.\n",
        "# See the License for the specific language governing permissions and\n",
        "# limitations under the License."
      ],
      "execution_count": 0,
      "outputs": []
    },
    {
      "metadata": {
        "id": "Zr7KpBhMcYvE",
        "colab_type": "text"
      },
      "cell_type": "markdown",
      "source": [
        "# Build a classifier using Estimators\n",
        "\n",
        "<table class=\"tfo-notebook-buttons\" align=\"left\"><td>\n",
        "<a target=\"_blank\"  href=\"https://colab.research.google.com/github/tensorflow/models/blob/master/samples/core/tutorials/estimators/wide.ipynb\">\n",
        "    <img src=\"https://www.tensorflow.org/images/colab_logo_32px.png\" /><span>Run in Google Colab</span></a>  \n",
        "</td><td>\n",
        "<a target=\"_blank\"  href=\"https://github.com/tensorflow/models/blob/master/samples/core/tutorials/estimators/wide.ipynb\"><img width=32px src=\"https://www.tensorflow.org/images/GitHub-Mark-32px.png\" /><span>View source on GitHub</span></a></td></table>"
      ]
    },
    {
      "metadata": {
        "id": "77aETSYDcdoK",
        "colab_type": "text"
      },
      "cell_type": "markdown",
      "source": [
        "In this tutorial, we will use the `tf.estimator` API in TensorFlow to solve a\n",
        "benchmark binary classification problem.\n",
        "\n",
        "Estimators are TensorFlow's most scalable and production oriented type of model. For more information see the [Estimator guide](../../guide/estimators).\n",
        "\n",
        "The problem is: Given census data about a person such as age, education, marital status, and occupation (the features), we will try to predict whether or not the person earns more than 50,000 dollars a year (the target label). We will train a **logistic regression** model, and given an individual's information our model will output a number between 0 and 1, which can be interpreted as the probability that the individual has an annual income of over 50,000 dollars.\n",
        "\n",
        "Key Point: As a modeler and developer, think about how this data is used and the potential benefits and harm a model's predictions can cause. A model like this could reinforce societal biases and disparities. Is each  feature relevant to the problem you want to solve or will it introduce bias? For more information, read about [ML fairness](https://developers.google.com/machine-learning/fairness-overview/).\n",
        "\n",
        "## Setup\n",
        "\n",
        "To try this tutorial, first import the relavant packages:"
      ]
    },
    {
      "metadata": {
        "id": "NQgONe5ecYvE",
        "colab_type": "code",
        "colab": {}
      },
      "cell_type": "code",
      "source": [
        "import tensorflow as tf\n",
        "import tensorflow.feature_column as fc \n",
        "tf.enable_eager_execution()\n",
        "\n",
        "import os\n",
        "import sys\n",
        "from IPython.display import clear_output"
      ],
      "execution_count": 0,
      "outputs": []
    },
    {
      "metadata": {
        "id": "-MPr95UccYvL",
        "colab_type": "text"
      },
      "cell_type": "markdown",
      "source": [
        "## Official implementation\n",
        "\n"
      ]
    },
    {
      "metadata": {
        "id": "tJqF5E6rtyCI",
        "colab_type": "text"
      },
      "cell_type": "markdown",
      "source": [
        "Download the [tutorial code from github](https://github.com/tensorflow/models/tree/master/official/wide_deep/),\n",
        " add the root directory to your python path, and jump to the `wide_deep` directory:"
      ]
    },
    {
      "metadata": {
        "id": "tTwQzWcn8aBu",
        "colab_type": "code",
        "colab": {}
      },
      "cell_type": "code",
      "source": [
        "! git clone --depth 1 https://github.com/tensorflow/models"
      ],
      "execution_count": 0,
      "outputs": []
    },
    {
      "metadata": {
        "id": "yVvFyhnkcYvL",
        "colab_type": "code",
        "colab": {}
      },
      "cell_type": "code",
      "source": [
        "models_path = os.path.join(os.getcwd(), 'models')\n",
        "\n",
        "sys.path.append(models_path)"
      ],
      "execution_count": 0,
      "outputs": []
    },
    {
      "metadata": {
        "id": "15Ethw-wcYvP",
        "colab_type": "text"
      },
      "cell_type": "markdown",
      "source": [
        "Download the dataset:"
      ]
    },
    {
      "metadata": {
        "id": "6QilS4-0cYvQ",
        "colab_type": "code",
        "colab": {}
      },
      "cell_type": "code",
      "source": [
        "from official.wide_deep import census_dataset\n",
        "from official.wide_deep import census_main\n",
        "\n",
        "census_dataset.download(\"/tmp/census_data/\")"
      ],
      "execution_count": 0,
      "outputs": []
    },
    {
      "metadata": {
        "id": "cD5e3ibAcYvS",
        "colab_type": "text"
      },
      "cell_type": "markdown",
      "source": [
        "### Command line usage\n",
        "\n",
        "The repo includes a complete program for experimenting with this type of model.\n",
        "\n",
        "To execute the tutorial code from the command line first add the path to tensorflow/models to your `PYTHONPATH`."
      ]
    },
    {
      "metadata": {
        "id": "DYOkY8boUptJ",
        "colab_type": "code",
        "colab": {}
      },
      "cell_type": "code",
      "source": [
        "#export PYTHONPATH=${PYTHONPATH}:\"$(pwd)/models\"\n",
        "os.environ['PYTHONPATH'] += os.pathsep+models_path"
      ],
      "execution_count": 0,
      "outputs": []
    },
    {
      "metadata": {
        "id": "5r0V9YUMUyoh",
        "colab_type": "text"
      },
      "cell_type": "markdown",
      "source": [
        "Use `--help` to see what command line options are available: "
      ]
    },
    {
      "metadata": {
        "id": "1_3tBaLW4YM4",
        "colab_type": "code",
        "colab": {}
      },
      "cell_type": "code",
      "source": [
        "!python -m official.wide_deep.census_main --help"
      ],
      "execution_count": 0,
      "outputs": []
    },
    {
      "metadata": {
        "id": "RrMLazEN6DMj",
        "colab_type": "text"
      },
      "cell_type": "markdown",
      "source": [
        "Now run the model:\n"
      ]
    },
    {
      "metadata": {
        "id": "py7MarZl5Yh6",
        "colab_type": "code",
        "colab": {}
      },
      "cell_type": "code",
      "source": [
        "!python -m official.wide_deep.census_main --model_type=wide --train_epochs=2"
      ],
      "execution_count": 0,
      "outputs": []
    },
    {
      "metadata": {
        "id": "Uo2qoafut4MK",
        "colab_type": "text"
      },
      "cell_type": "markdown",
      "source": [
        "Read on to find out how this code builds its models."
      ]
    },
    {
      "metadata": {
        "id": "AmZ4CpaOcYvV",
        "colab_type": "text"
      },
      "cell_type": "markdown",
      "source": [
        "## Reading The Census Data\n",
        "\n",
        "The dataset we're using is the\n",
        "[Census Income Dataset](https://archive.ics.uci.edu/ml/datasets/Census+Income).\n",
        "We have provided\n",
        "[census_dataset.py](https://github.com/tensorflow/models/tree/master/official/wide_deep/census_dataset.py)\n",
        "which downloads the code and performs some additional cleanup.\n",
        "\n",
        "Since the task is a binary classification problem, we'll construct a label\n",
        "column named \"label\" whose value is 1 if the income is over 50K, and 0\n",
        "otherwise. For reference, see `input_fn` in\n",
        "[census_main.py](https://github.com/tensorflow/models/tree/master/official/wide_deep/census_main.py).\n",
        "\n",
        "Next, let's take a look at the data and see which columns we can use to\n",
        "predict the target label. "
      ]
    },
    {
      "metadata": {
        "id": "N6Tgye8bcYvX",
        "colab_type": "code",
        "colab": {}
      },
      "cell_type": "code",
      "source": [
        "!ls  /tmp/census_data/"
      ],
      "execution_count": 0,
      "outputs": []
    },
    {
      "metadata": {
        "id": "6y3mj9zKcYva",
        "colab_type": "code",
        "colab": {}
      },
      "cell_type": "code",
      "source": [
        "train_file = \"/tmp/census_data/adult.data\"\n",
        "test_file = \"/tmp/census_data/adult.test\""
      ],
      "execution_count": 0,
      "outputs": []
    },
    {
      "metadata": {
        "id": "vkn1FNmpcYvb",
        "colab_type": "code",
        "colab": {}
      },
      "cell_type": "code",
      "source": [
        "import pandas\n",
        "train_df = pandas.read_csv(train_file, header = None, names = census_dataset._CSV_COLUMNS)\n",
        "test_df = pandas.read_csv(test_file, header = None, names = census_dataset._CSV_COLUMNS)\n",
        "\n",
        "train_df.head()"
      ],
      "execution_count": 0,
      "outputs": []
    },
    {
      "metadata": {
        "id": "QZZtXes4cYvf",
        "colab_type": "text"
      },
      "cell_type": "markdown",
      "source": [
        "The columns can be grouped into two types—categorical\n",
        "and continuous columns:\n",
        "\n",
        "*   A column is called **categorical** if its value can only be one of the\n",
        "    categories in a finite set. For example, the relationship status of a person\n",
        "    (wife, husband, unmarried, etc.) or the education level (high school,\n",
        "    college, etc.) are categorical columns.\n",
        "*   A column is called **continuous** if its value can be any numerical value in\n",
        "    a continuous range. For example, the capital gain of a person (e.g. $14,084)\n",
        "    is a continuous column.\n",
        "\n",
        "Here's a list of columns available in the Census Income dataset:\n",
        "\n",
        "## Converting Data into Tensors\n",
        "\n",
        "When building a tf.estimator model, the input data is specified by means of an\n",
        "input function or `input_fn`. This builder function returns a `tf.data.Dataset`\n",
        "of batches of `(features-dict,label)` pairs. It will not be called until it is\n",
        "later passed to `tf.estimator.Estimator` methods such as `train` and `evaluate`.\n",
        "\n",
        "In more detail, the input builder function returns the following as a pair:\n",
        "\n",
        "1.  `features`: A dict from feature names to `Tensors` or\n",
        "    `SparseTensors` containing batches of features.\n",
        "2.  `labels`: A `Tensor` containing batches of labels.\n",
        "\n",
        "The keys of the `features` will be used to configure the model's input layer.\n",
        "\n",
        "Note that the input function will be called while\n",
        "constructing the TensorFlow graph, not while running the graph. What it is\n",
        "returning is a representation of the input data as sequence of tensorflow graph\n",
        "operations.\n",
        "\n",
        "For small problems like this it's easy to make a `tf.data.Dataset` by slicing the `pandas.DataFrame`:"
      ]
    },
    {
      "metadata": {
        "id": "N7zNJflKcYvg",
        "colab_type": "code",
        "colab": {}
      },
      "cell_type": "code",
      "source": [
        "def easy_input_function(df, label_key, num_epochs, shuffle, batch_size):\n",
        "  label = df[label_key]\n",
        "  ds = tf.data.Dataset.from_tensor_slices((dict(df),label))\n",
        "\n",
        "  if shuffle:\n",
        "    ds = ds.shuffle(10000)\n",
        "\n",
        "  ds = ds.batch(batch_size).repeat(num_epochs)\n",
        "\n",
        "  return ds"
      ],
      "execution_count": 0,
      "outputs": []
    },
    {
      "metadata": {
        "id": "WeEgNR9AcYvh",
        "colab_type": "text"
      },
      "cell_type": "markdown",
      "source": [
        "Since we have eager execution enabled it is easy to inspect the resulting dataset:"
      ]
    },
    {
      "metadata": {
        "id": "ygaKuikecYvi",
        "colab_type": "code",
        "colab": {}
      },
      "cell_type": "code",
      "source": [
        "ds = easy_input_function(train_df, label_key='income_bracket', num_epochs=5, shuffle=True, batch_size=10)\n",
        "\n",
        "for feature_batch, label_batch in ds.take(1):\n",
        "  print('Some feature keys:', list(feature_batch.keys())[:5])\n",
        "  print()\n",
        "  print('A batch of Ages  :', feature_batch['age'])\n",
        "  print()\n",
        "  print('A batch of Labels:', label_batch )"
      ],
      "execution_count": 0,
      "outputs": []
    },
    {
      "metadata": {
        "id": "O_KZxQUucYvm",
        "colab_type": "text"
      },
      "cell_type": "markdown",
      "source": [
        "But this approach has severly-limited scalability. For larger data it should be streamed off disk.\n",
        "The `census_dataset.input_fn` provides an example of how to do this using `tf.decode_csv` and `tf.data.TextLineDataset`: \n",
        "\n",
        "<!-- TODO(markdaoust): This `input_fn` should use `tf.contrib.data.make_csv_dataset` -->"
      ]
    },
    {
      "metadata": {
        "id": "vUTeXaEUcYvn",
        "colab_type": "code",
        "colab": {}
      },
      "cell_type": "code",
      "source": [
        "import inspect\n",
        "print(inspect.getsource(census_dataset.input_fn))"
      ],
      "execution_count": 0,
      "outputs": []
    },
    {
      "metadata": {
        "id": "yyGcv_e-cYvq",
        "colab_type": "text"
      },
      "cell_type": "markdown",
      "source": [
        "This input_fn gives equivalent output:"
      ]
    },
    {
      "metadata": {
        "id": "DlsqRZS5cYvr",
        "colab_type": "code",
        "colab": {}
      },
      "cell_type": "code",
      "source": [
        "ds = census_dataset.input_fn(train_file, num_epochs=5, shuffle=True, batch_size=10)"
      ],
      "execution_count": 0,
      "outputs": []
    },
    {
      "metadata": {
        "id": "Mv3as_CEcYvu",
        "colab_type": "code",
        "colab": {}
      },
      "cell_type": "code",
      "source": [
        "for feature_batch, label_batch in ds.take(1):\n",
        "  print('Feature keys:', list(feature_batch.keys())[:5])\n",
        "  print()\n",
        "  print('Age batch   :', feature_batch['age'])\n",
        "  print()\n",
        "  print('Label batch :', label_batch )"
      ],
      "execution_count": 0,
      "outputs": []
    },
    {
      "metadata": {
        "id": "810fnfY5cYvz",
        "colab_type": "text"
      },
      "cell_type": "markdown",
      "source": [
        "Because `Estimators` expect an `input_fn` that takes no arguments, we typically wrap configurable input function into an obejct with the expected signature. For this notebook configure the `train_inpf` to iterate over the data twice:"
      ]
    },
    {
      "metadata": {
        "id": "wnQdpEcVcYv0",
        "colab_type": "code",
        "colab": {}
      },
      "cell_type": "code",
      "source": [
        "import functools\n",
        "train_inpf = functools.partial(census_dataset.input_fn, train_file, num_epochs=2, shuffle=True, batch_size=64)\n",
        "test_inpf = functools.partial(census_dataset.input_fn, test_file, num_epochs=1, shuffle=False, batch_size=64)"
      ],
      "execution_count": 0,
      "outputs": []
    },
    {
      "metadata": {
        "id": "pboNpNWhcYv4",
        "colab_type": "text"
      },
      "cell_type": "markdown",
      "source": [
        "## Selecting and Engineering Features for the Model\n",
        "\n",
        "Estimators use a system called `feature_columns` to describe how the model\n",
        "should interpret each of the raw input features. An Estimator exepcts a vector\n",
        "of numeric inputs, and feature columns describe how the model should convert\n",
        "each feature.\n",
        "\n",
        "Selecting and crafting the right set of feature columns is key to learning an\n",
        "effective model. A **feature column** can be either one of the raw columns in\n",
        "the original dataframe (let's call them **base feature columns**), or any new\n",
        "columns created based on some transformations defined over one or multiple base\n",
        "columns (let's call them **derived feature columns**). Basically, \"feature\n",
        "column\" is an abstract concept of any raw or derived variable that can be used\n",
        "to predict the target label.\n",
        "\n",
        "### Base Feature Columns\n",
        "\n",
        "#### Numeric columns\n",
        "\n",
        "The simplest `feature_column` is `numeric_column`. This indicates that a feature is a numeric value that should be input to the model directly. For example:"
      ]
    },
    {
      "metadata": {
        "id": "ZX0r2T5OcYv6",
        "colab_type": "code",
        "colab": {}
      },
      "cell_type": "code",
      "source": [
        "age = fc.numeric_column('age')"
      ],
      "execution_count": 0,
      "outputs": []
    },
    {
      "metadata": {
        "id": "tnLUiaHxcYv-",
        "colab_type": "text"
      },
      "cell_type": "markdown",
      "source": [
        "The model will use the `feature_column` definitions to build the model input. You can inspect the resulting output using the `input_layer` function:"
      ]
    },
    {
      "metadata": {
        "id": "kREtIPfwcYv_",
        "colab_type": "code",
        "colab": {}
      },
      "cell_type": "code",
      "source": [
        "fc.input_layer(feature_batch, [age]).numpy()"
      ],
      "execution_count": 0,
      "outputs": []
    },
    {
      "metadata": {
        "id": "OPuLduCucYwD",
        "colab_type": "text"
      },
      "cell_type": "markdown",
      "source": [
        "The following code will train and evaluate a model on only the `age` feature."
      ]
    },
    {
      "metadata": {
        "id": "9R5eSJ1pcYwE",
        "colab_type": "code",
        "colab": {}
      },
      "cell_type": "code",
      "source": [
        "classifier = tf.estimator.LinearClassifier(feature_columns=[age])\n",
        "classifier.train(train_inpf)\n",
        "result = classifier.evaluate(test_inpf)\n",
        "\n",
        "clear_output()\n",
        "print(result)"
      ],
      "execution_count": 0,
      "outputs": []
    },
    {
      "metadata": {
        "id": "YDZGcdTdcYwI",
        "colab_type": "text"
      },
      "cell_type": "markdown",
      "source": [
        "Similarly, we can define a `NumericColumn` for each continuous feature column\n",
        "that we want to use in the model:"
      ]
    },
    {
      "metadata": {
        "id": "uqPbUqlxcYwJ",
        "colab_type": "code",
        "colab": {}
      },
      "cell_type": "code",
      "source": [
        "education_num = tf.feature_column.numeric_column('education_num')\n",
        "capital_gain = tf.feature_column.numeric_column('capital_gain')\n",
        "capital_loss = tf.feature_column.numeric_column('capital_loss')\n",
        "hours_per_week = tf.feature_column.numeric_column('hours_per_week')"
      ],
      "execution_count": 0,
      "outputs": []
    },
    {
      "metadata": {
        "id": "yqCF0a4DcYwM",
        "colab_type": "code",
        "colab": {}
      },
      "cell_type": "code",
      "source": [
        "my_numeric_columns = [age,education_num, capital_gain, capital_loss, hours_per_week]"
      ],
      "execution_count": 0,
      "outputs": []
    },
    {
      "metadata": {
        "id": "xDrZtAZ0cYwO",
        "colab_type": "code",
        "colab": {}
      },
      "cell_type": "code",
      "source": [
        "fc.input_layer(feature_batch, my_numeric_columns).numpy()"
      ],
      "execution_count": 0,
      "outputs": []
    },
    {
      "metadata": {
        "id": "cBGDN97IcYwQ",
        "colab_type": "text"
      },
      "cell_type": "markdown",
      "source": [
        "You could retrain a model on these features with, just by changing the `feature_columns` argument to the constructor:"
      ]
    },
    {
      "metadata": {
        "id": "XN8k5S95cYwR",
        "colab_type": "code",
        "colab": {}
      },
      "cell_type": "code",
      "source": [
        "classifier = tf.estimator.LinearClassifier(feature_columns=my_numeric_columns)\n",
        "classifier.train(train_inpf)\n",
        "\n",
        "result = classifier.evaluate(test_inpf)\n",
        "\n",
        "clear_output()\n",
        "for key,value in sorted(result.items()):\n",
        "  print('%s: %s' % (key, value))"
      ],
      "execution_count": 0,
      "outputs": []
    },
    {
      "metadata": {
        "id": "jBRq9_AzcYwU",
        "colab_type": "text"
      },
      "cell_type": "markdown",
      "source": [
        "#### Categorical columns\n",
        "\n",
        "To define a feature column for a categorical feature, we can create a\n",
        "`CategoricalColumn` using one of the `tf.feature_column.categorical_column*` functions.\n",
        "\n",
        "If you know the set of all possible feature values of a column and there are only a few of them, you can use `categorical_column_with_vocabulary_list`. Each key in the list will get assigned an auto-incremental ID starting from 0. For example, for the `relationship` column we can assign the feature string `Husband` to an integer ID of 0 and \"Not-in-family\" to 1, etc., by doing:"
      ]
    },
    {
      "metadata": {
        "id": "0IjqSi9tcYwV",
        "colab_type": "code",
        "colab": {}
      },
      "cell_type": "code",
      "source": [
        "relationship = fc.categorical_column_with_vocabulary_list(\n",
        "    'relationship', [\n",
        "        'Husband', 'Not-in-family', 'Wife', 'Own-child', 'Unmarried',\n",
        "        'Other-relative'])\n"
      ],
      "execution_count": 0,
      "outputs": []
    },
    {
      "metadata": {
        "id": "-RjoWv-7cYwW",
        "colab_type": "text"
      },
      "cell_type": "markdown",
      "source": [
        "This will create a sparse one-hot vector from the raw input feature.\n",
        "\n",
        "The `input_layer` function we're using for demonstration is designed for DNN models, and so expects dense inputs. To demonstrate the categorical column we must wrap it in a `tf.feature_column.indicator_column` to create the dense one-hot output (Linear `Estimators` can often skip this dense-step).\n",
        "\n",
        "Note: the other sparse-to-dense option is `tf.feature_column.embedding_column`.\n",
        "\n",
        "Run the input layer, configured with both the `age` and `relationship` columns:"
      ]
    },
    {
      "metadata": {
        "id": "kI43CYlncYwY",
        "colab_type": "code",
        "colab": {}
      },
      "cell_type": "code",
      "source": [
        "fc.input_layer(feature_batch, [age, fc.indicator_column(relationship)])"
      ],
      "execution_count": 0,
      "outputs": []
    },
    {
      "metadata": {
        "id": "tTudP7WHcYwb",
        "colab_type": "text"
      },
      "cell_type": "markdown",
      "source": [
        "What if we don't know the set of possible values in advance? Not a problem. We\n",
        "can use `categorical_column_with_hash_bucket` instead:"
      ]
    },
    {
      "metadata": {
        "id": "8pSBaliCcYwb",
        "colab_type": "code",
        "colab": {}
      },
      "cell_type": "code",
      "source": [
        "occupation = tf.feature_column.categorical_column_with_hash_bucket(\n",
        "    'occupation', hash_bucket_size=1000)"
      ],
      "execution_count": 0,
      "outputs": []
    },
    {
      "metadata": {
        "id": "fSAPrqQkcYwd",
        "colab_type": "text"
      },
      "cell_type": "markdown",
      "source": [
        "What will happen is that each possible value in the feature column `occupation`\n",
        "will be hashed to an integer ID as we encounter them in training. The example batch has a few different occupations:"
      ]
    },
    {
      "metadata": {
        "id": "dCvQNv36cYwe",
        "colab_type": "code",
        "colab": {}
      },
      "cell_type": "code",
      "source": [
        "for item in feature_batch['occupation'].numpy():\n",
        "    print(item.decode())"
      ],
      "execution_count": 0,
      "outputs": []
    },
    {
      "metadata": {
        "id": "KP5hN2rAcYwh",
        "colab_type": "text"
      },
      "cell_type": "markdown",
      "source": [
        "If we run `input_layer` with the hashed column we see that the output shape is `(batch_size, hash_bucket_size)`"
      ]
    },
    {
      "metadata": {
        "id": "0Y16peWacYwh",
        "colab_type": "code",
        "colab": {}
      },
      "cell_type": "code",
      "source": [
        "occupation_result = fc.input_layer(feature_batch, [fc.indicator_column(occupation)])\n",
        "\n",
        "occupation_result.numpy().shape"
      ],
      "execution_count": 0,
      "outputs": []
    },
    {
      "metadata": {
        "id": "HMW2MzWAcYwk",
        "colab_type": "text"
      },
      "cell_type": "markdown",
      "source": [
        "It's easier to see the actual results if we take the tf.argmax over the `hash_bucket_size` dimension.\n",
        "\n",
        "In the output below, note how any duplicate occupations are mapped to the same pseudo-random index:\n",
        "\n",
        "Note: Hash collisions are unavoidable, but often have minimal impact on model quiality. The effeect may be noticable if the hash buckets are being used to compress the input space. See [this notebook](https://colab.research.google.com/github/tensorflow/models/blob/master/samples/outreach/blogs/housing_prices.ipynb) for a more visual example of the effect of these hash collisions."
      ]
    },
    {
      "metadata": {
        "id": "q_ryRglmcYwk",
        "colab_type": "code",
        "colab": {}
      },
      "cell_type": "code",
      "source": [
        "tf.argmax(occupation_result, axis=1).numpy()"
      ],
      "execution_count": 0,
      "outputs": []
    },
    {
      "metadata": {
        "id": "j1e5NfyKcYwn",
        "colab_type": "text"
      },
      "cell_type": "markdown",
      "source": [
        "No matter which way we choose to define a `SparseColumn`, each feature string\n",
        "will be mapped into an integer ID by looking up a fixed mapping or by hashing.\n",
        "Under the hood, the `LinearModel` class is responsible for\n",
        "managing the mapping and creating `tf.Variable` to store the model parameters\n",
        "(also known as model weights) for each feature ID. The model parameters will be\n",
        "learned through the model training process we'll go through later.\n",
        "\n",
        "We'll do the similar trick to define the other categorical features:"
      ]
    },
    {
      "metadata": {
        "id": "0Z5eUrd_cYwo",
        "colab_type": "code",
        "colab": {}
      },
      "cell_type": "code",
      "source": [
        "education = tf.feature_column.categorical_column_with_vocabulary_list(\n",
        "    'education', [\n",
        "        'Bachelors', 'HS-grad', '11th', 'Masters', '9th', 'Some-college',\n",
        "        'Assoc-acdm', 'Assoc-voc', '7th-8th', 'Doctorate', 'Prof-school',\n",
        "        '5th-6th', '10th', '1st-4th', 'Preschool', '12th'])\n",
        "\n",
        "marital_status = tf.feature_column.categorical_column_with_vocabulary_list(\n",
        "    'marital_status', [\n",
        "        'Married-civ-spouse', 'Divorced', 'Married-spouse-absent',\n",
        "        'Never-married', 'Separated', 'Married-AF-spouse', 'Widowed'])\n",
        "\n",
        "workclass = tf.feature_column.categorical_column_with_vocabulary_list(\n",
        "    'workclass', [\n",
        "        'Self-emp-not-inc', 'Private', 'State-gov', 'Federal-gov',\n",
        "        'Local-gov', '?', 'Self-emp-inc', 'Without-pay', 'Never-worked'])\n"
      ],
      "execution_count": 0,
      "outputs": []
    },
    {
      "metadata": {
        "id": "a03l9ozUcYwp",
        "colab_type": "code",
        "colab": {}
      },
      "cell_type": "code",
      "source": [
        "my_categorical_columns = [relationship, occupation, education, marital_status, workclass]"
      ],
      "execution_count": 0,
      "outputs": []
    },
    {
      "metadata": {
        "id": "ASQJM1pEcYwr",
        "colab_type": "text"
      },
      "cell_type": "markdown",
      "source": [
        "It's easy to use both sets of columns to configure a model that uses all these features:"
      ]
    },
    {
      "metadata": {
        "id": "_i_MLoo9cYws",
        "colab_type": "code",
        "colab": {}
      },
      "cell_type": "code",
      "source": [
        "classifier = tf.estimator.LinearClassifier(feature_columns=my_numeric_columns+my_categorical_columns)\n",
        "classifier.train(train_inpf)\n",
        "result = classifier.evaluate(test_inpf)\n",
        "\n",
        "clear_output()\n",
        "for key,value in sorted(result.items()):\n",
        "  print('%s: %s' % (key, value))"
      ],
      "execution_count": 0,
      "outputs": []
    },
    {
      "metadata": {
        "id": "zdKEqF6xcYwv",
        "colab_type": "text"
      },
      "cell_type": "markdown",
      "source": [
        "### Derived feature columns\n",
        "\n",
        "#### Making Continuous Features Categorical through Bucketization\n",
        "\n",
        "Sometimes the relationship between a continuous feature and the label is not\n",
        "linear. As a hypothetical example, a person's income may grow with age in the\n",
        "early stage of one's career, then the growth may slow at some point, and finally\n",
        "the income decreases after retirement. In this scenario, using the raw `age` as\n",
        "a real-valued feature column might not be a good choice because the model can\n",
        "only learn one of the three cases:\n",
        "\n",
        "1.  Income always increases at some rate as age grows (positive correlation),\n",
        "1.  Income always decreases at some rate as age grows (negative correlation), or\n",
        "1.  Income stays the same no matter at what age (no correlation)\n",
        "\n",
        "If we want to learn the fine-grained correlation between income and each age\n",
        "group separately, we can leverage **bucketization**. Bucketization is a process\n",
        "of dividing the entire range of a continuous feature into a set of consecutive\n",
        "bins/buckets, and then converting the original numerical feature into a bucket\n",
        "ID (as a categorical feature) depending on which bucket that value falls into.\n",
        "So, we can define a `bucketized_column` over `age` as:"
      ]
    },
    {
      "metadata": {
        "id": "KT4pjD9AcYww",
        "colab_type": "code",
        "colab": {}
      },
      "cell_type": "code",
      "source": [
        "age_buckets = tf.feature_column.bucketized_column(\n",
        "    age, boundaries=[18, 25, 30, 35, 40, 45, 50, 55, 60, 65])"
      ],
      "execution_count": 0,
      "outputs": []
    },
    {
      "metadata": {
        "id": "S-XOscrEcYwx",
        "colab_type": "text"
      },
      "cell_type": "markdown",
      "source": [
        "where the `boundaries` is a list of bucket boundaries. In this case, there are\n",
        "10 boundaries, resulting in 11 age group buckets (from age 17 and below, 18-24,\n",
        "25-29, ..., to 65 and over).\n",
        "\n",
        "With bucketing, the model sees each bucket a one-hot feature:"
      ]
    },
    {
      "metadata": {
        "id": "Lr40vm3qcYwy",
        "colab_type": "code",
        "colab": {}
      },
      "cell_type": "code",
      "source": [
        "fc.input_layer(feature_batch, [age, age_buckets]).numpy()"
      ],
      "execution_count": 0,
      "outputs": []
    },
    {
      "metadata": {
        "id": "Z_tQI9j8cYw1",
        "colab_type": "text"
      },
      "cell_type": "markdown",
      "source": [
        "#### Learn complex relationships with crossed column\n",
        "\n",
        "Using each base feature column separately may not be enough to explain the data.\n",
        "For example, the correlation between education and the label (earning > 50,000\n",
        "dollars) may be different for different occupations. Therefore, if we only learn\n",
        "a single model weight for `education=\"Bachelors\"` and `education=\"Masters\"`, we\n",
        "won't be able to capture every single education-occupation combination (e.g.\n",
        "distinguishing between `education=\"Bachelors\" AND occupation=\"Exec-managerial\"`\n",
        "and `education=\"Bachelors\" AND occupation=\"Craft-repair\"`). To learn the\n",
        "differences between different feature combinations, we can add **crossed feature\n",
        "columns** to the model."
      ]
    },
    {
      "metadata": {
        "id": "IAPhPzXscYw1",
        "colab_type": "code",
        "colab": {}
      },
      "cell_type": "code",
      "source": [
        "education_x_occupation = tf.feature_column.crossed_column(\n",
        "    ['education', 'occupation'], hash_bucket_size=1000)"
      ],
      "execution_count": 0,
      "outputs": []
    },
    {
      "metadata": {
        "id": "UeTxMunbcYw5",
        "colab_type": "text"
      },
      "cell_type": "markdown",
      "source": [
        "We can also create a `crossed_column` over more than two columns. Each\n",
        "constituent column can be either a base feature column that is categorical\n",
        "(`SparseColumn`), a bucketized real-valued feature column, or even another\n",
        "`CrossColumn`. Here's an example:"
      ]
    },
    {
      "metadata": {
        "id": "y8UaBld9cYw7",
        "colab_type": "code",
        "colab": {}
      },
      "cell_type": "code",
      "source": [
        "age_buckets_x_education_x_occupation = tf.feature_column.crossed_column(\n",
        "    [age_buckets, 'education', 'occupation'], hash_bucket_size=1000)"
      ],
      "execution_count": 0,
      "outputs": []
    },
    {
      "metadata": {
        "id": "HvKmW6U5cYw8",
        "colab_type": "text"
      },
      "cell_type": "markdown",
      "source": [
        "These crossed columns always use hash buckets to avoid the exponential explosion in the number of categories, and put the control over number of model weights in the hands of the user.\n",
        "\n",
        "For a visual example the effect of hash-buckets with crossed columns see [this notebook](https://colab.research.google.com/github/tensorflow/models/blob/master/samples/outreach/blogs/housing_prices.ipynb)\n",
        "\n"
      ]
    },
    {
      "metadata": {
        "id": "HtjpheB6cYw9",
        "colab_type": "text"
      },
      "cell_type": "markdown",
      "source": [
        "## Defining The Logistic Regression Model\n",
        "\n",
        "After processing the input data and defining all the feature columns, we're now\n",
        "ready to put them all together and build a Logistic Regression model. In the\n",
        "previous section we've seen several types of base and derived feature columns,\n",
        "including:\n",
        "\n",
        "*   `CategoricalColumn`\n",
        "*   `NumericColumn`\n",
        "*   `BucketizedColumn`\n",
        "*   `CrossedColumn`\n",
        "\n",
        "All of these are subclasses of the abstract `FeatureColumn` class, and can be\n",
        "added to the `feature_columns` field of a model:"
      ]
    },
    {
      "metadata": {
        "id": "Klmf3OxpcYw-",
        "colab_type": "code",
        "colab": {}
      },
      "cell_type": "code",
      "source": [
        "import tempfile\n",
        "\n",
        "base_columns = [\n",
        "    education, marital_status, relationship, workclass, occupation,\n",
        "    age_buckets,\n",
        "]\n",
        "crossed_columns = [\n",
        "    tf.feature_column.crossed_column(\n",
        "        ['education', 'occupation'], hash_bucket_size=1000),\n",
        "    tf.feature_column.crossed_column(\n",
        "        [age_buckets, 'education', 'occupation'], hash_bucket_size=1000),\n",
        "]\n",
        "\n",
        "model = tf.estimator.LinearClassifier(\n",
        "    model_dir=tempfile.mkdtemp(), feature_columns=base_columns + crossed_columns)"
      ],
      "execution_count": 0,
      "outputs": []
    },
    {
      "metadata": {
        "id": "jRhnPxUucYxC",
        "colab_type": "text"
      },
      "cell_type": "markdown",
      "source": [
        "The model also automatically learns a bias term, which controls the prediction\n",
        "one would make without observing any features (see the section [How Logistic\n",
        "Regression Works](#how_it_works) for more explanations). The learned model files will be stored\n",
        "in `model_dir`.\n",
        "\n",
        "## Training and evaluating our model\n",
        "\n",
        "After adding all the features to the model, now let's look at how to actually\n",
        "train the model. Training a model is just a single command using the\n",
        "tf.estimator API:"
      ]
    },
    {
      "metadata": {
        "id": "ZlrIBuoecYxD",
        "colab_type": "code",
        "colab": {}
      },
      "cell_type": "code",
      "source": [
        "model.train(train_inpf)\n",
        "clear_output()"
      ],
      "execution_count": 0,
      "outputs": []
    },
    {
      "metadata": {
        "id": "IvY3a9pzcYxH",
        "colab_type": "text"
      },
      "cell_type": "markdown",
      "source": [
        "After the model is trained, we can evaluate how good our model is at predicting\n",
        "the labels of the holdout data:"
      ]
    },
    {
      "metadata": {
        "id": "L9nVJEO8cYxI",
        "colab_type": "code",
        "colab": {}
      },
      "cell_type": "code",
      "source": [
        "results = model.evaluate(test_inpf)\n",
        "clear_output()\n",
        "for key,value in sorted(result.items()):\n",
        "  print('%s: %0.2f' % (key, value))"
      ],
      "execution_count": 0,
      "outputs": []
    },
    {
      "metadata": {
        "id": "E0fAibNDcYxL",
        "colab_type": "text"
      },
      "cell_type": "markdown",
      "source": [
        "The first line of the final output should be something like\n",
        "`accuracy: 0.83`, which means the accuracy is 83%. Feel free to try more\n",
        "features and transformations and see if you can do even better!\n",
        "\n",
        "After the model is evaluated, we can use the model to predict whether an individual has an annual income of over\n",
        "50,000 dollars given an individual's information input.\n",
        "\n",
        "Let's look in more detail how the model did:"
      ]
    },
    {
      "metadata": {
        "id": "8R5bz5CxcYxL",
        "colab_type": "code",
        "colab": {}
      },
      "cell_type": "code",
      "source": [
        "import numpy as np\n",
        "predict_df = test_df[:20].copy()\n",
        "\n",
        "pred_iter = model.predict(\n",
        "    lambda:easy_input_function(predict_df, label_key='income_bracket',\n",
        "                               num_epochs=1, shuffle=False, batch_size=10))\n",
        "\n",
        "classes = np.array(['<=50K', '>50K'])\n",
        "pred_class_id = []\n",
        "for pred_dict in pred_iter:\n",
        "  pred_class_id.append(pred_dict['class_ids'])\n",
        "\n",
        "predict_df['predicted_class'] = classes[np.array(pred_class_id)]\n",
        "predict_df['correct'] = predict_df['predicted_class'] == predict_df['income_bracket']\n",
        "\n",
        "clear_output()\n",
        "predict_df[['income_bracket','predicted_class', 'correct']]"
      ],
      "execution_count": 0,
      "outputs": []
    },
    {
      "metadata": {
        "id": "N_uCpFTicYxN",
        "colab_type": "text"
      },
      "cell_type": "markdown",
      "source": [
        "If you'd like to see a working end-to-end example, you can download our\n",
        "[example code](https://github.com/tensorflow/models/tree/master/official/wide_deep/census_main.py)\n",
        "and set the `model_type` flag to `wide`."
      ]
    },
    {
      "metadata": {
        "id": "i5119iMWcYxU",
        "colab_type": "text"
      },
      "cell_type": "markdown",
      "source": [
        "<a id=\"how_it_works\"> </a>\n",
        "## How Logistic Regression Works\n",
        "\n",
        "Finally, let's take a minute to talk about what the Logistic Regression model\n",
        "actually looks like in case you're not already familiar with it. We'll denote\n",
        "the label as \\\\(Y\\\\), and the set of observed features as a feature vector\n",
        "\\\\(\\mathbf{x}=[x_1, x_2, ..., x_d]\\\\). We define \\\\(Y=1\\\\) if an individual\n",
        "earned > 50,000 dollars and \\\\(Y=0\\\\) otherwise. In Logistic Regression, the\n",
        "probability of the label being positive (\\\\(Y=1\\\\)) given the features\n",
        "\\\\(\\mathbf{x}\\\\) is given as:\n",
        "\n",
        "$$ P(Y=1|\\mathbf{x}) = \\frac{1}{1+\\exp(-(\\mathbf{w}^T\\mathbf{x}+b))}$$\n",
        "\n",
        "where \\\\(\\mathbf{w}=[w_1, w_2, ..., w_d]\\\\) are the model weights for the\n",
        "features \\\\(\\mathbf{x}=[x_1, x_2, ..., x_d]\\\\). \\\\(b\\\\) is a constant that is\n",
        "often called the **bias** of the model. The equation consists of two parts—A\n",
        "linear model and a logistic function:\n",
        "\n",
        "*   **Linear Model**: First, we can see that \\\\(\\mathbf{w}^T\\mathbf{x}+b = b +\n",
        "    w_1x_1 + ... +w_dx_d\\\\) is a linear model where the output is a linear\n",
        "    function of the input features \\\\(\\mathbf{x}\\\\). The bias \\\\(b\\\\) is the\n",
        "    prediction one would make without observing any features. The model weight\n",
        "    \\\\(w_i\\\\) reflects how the feature \\\\(x_i\\\\) is correlated with the positive\n",
        "    label. If \\\\(x_i\\\\) is positively correlated with the positive label, the\n",
        "    weight \\\\(w_i\\\\) increases, and the probability \\\\(P(Y=1|\\mathbf{x})\\\\) will\n",
        "    be closer to 1. On the other hand, if \\\\(x_i\\\\) is negatively correlated\n",
        "    with the positive label, then the weight \\\\(w_i\\\\) decreases and the\n",
        "    probability \\\\(P(Y=1|\\mathbf{x})\\\\) will be closer to 0.\n",
        "\n",
        "*   **Logistic Function**: Second, we can see that there's a logistic function\n",
        "    (also known as the sigmoid function) \\\\(S(t) = 1/(1+\\exp(-t))\\\\) being\n",
        "    applied to the linear model. The logistic function is used to convert the\n",
        "    output of the linear model \\\\(\\mathbf{w}^T\\mathbf{x}+b\\\\) from any real\n",
        "    number into the range of \\\\([0, 1]\\\\), which can be interpreted as a\n",
        "    probability.\n",
        "\n",
        "Model training is an optimization problem: The goal is to find a set of model\n",
        "weights (i.e. model parameters) to minimize a **loss function** defined over the\n",
        "training data, such as logistic loss for Logistic Regression models. The loss\n",
        "function measures the discrepancy between the ground-truth label and the model's\n",
        "prediction. If the prediction is very close to the ground-truth label, the loss\n",
        "value will be low; if the prediction is very far from the label, then the loss\n",
        "value would be high."
      ]
    },
    {
      "metadata": {
        "id": "hbXuPYQIcYxV",
        "colab_type": "text"
      },
      "cell_type": "markdown",
      "source": [
        "## Next Steps\n",
        "\n",
        "For more about estimators see:\n",
        "\n",
        "- The [Estimator Guide](tensorlfow.org/guide/estimators).\n",
        "- The [TensorFlow Hub text classification tutorial](https://www.tensorflow.org/hub/tutorials/text_classification_with_tf_hub), which uses `hub.text_embedding_column` to easily ingest free form text. \n",
        "- The [Gradient-boosted-trees estimator tutorial](https://github.com/tensorflow/models/tree/master/official/boosted_trees)\n",
        "- This [blog post]( https://medium.com/tensorflow/classifying-text-with-tensorflow-estimators) on processing text with `Estimators`\n",
        "- How to [build a custom CNN estimator](https://www.tensorflow.org/tutorials/estimators/cnn)"
      ]
    }
  ]
}